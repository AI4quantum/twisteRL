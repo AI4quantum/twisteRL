{
 "cells": [
  {
   "cell_type": "code",
   "execution_count": 1,
   "metadata": {},
   "outputs": [],
   "source": [
    "from twisterl.train import prepare_algorithm, load_config"
   ]
  },
  {
   "cell_type": "markdown",
   "metadata": {},
   "source": [
    "## Load model and env"
   ]
  },
  {
   "cell_type": "code",
   "execution_count": 2,
   "metadata": {},
   "outputs": [],
   "source": [
    "config = load_config(\"ppo_puzzle8_v1.json\")\n",
    "algo = prepare_algorithm(config, load_checkpoint_path=\"ppo_puzzle8_v1.pt\")"
   ]
  },
  {
   "cell_type": "markdown",
   "metadata": {},
   "source": [
    "#### Helper function to display env"
   ]
  },
  {
   "cell_type": "code",
   "execution_count": 3,
   "metadata": {},
   "outputs": [],
   "source": [
    "import numpy as np\n",
    "\n",
    "def display(state):\n",
    "    padding = len(str(max(state)))\n",
    "    txt = \"\"\n",
    "    for row in np.array(state).reshape([config[\"env\"][\"width\"], config[\"env\"][\"height\"]]):\n",
    "        txt += \"|\" + \"|\".join((\"{:\"+str(padding)+\"d}\").format(num) if num > 0 else \" \"*padding for num in row) + \"|\\n\"\n",
    "    print(txt)"
   ]
  },
  {
   "cell_type": "markdown",
   "metadata": {},
   "source": [
    "## Play!"
   ]
  },
  {
   "cell_type": "markdown",
   "metadata": {},
   "source": [
    "#### Generate an initial state"
   ]
  },
  {
   "cell_type": "code",
   "execution_count": 4,
   "metadata": {},
   "outputs": [
    {
     "name": "stdout",
     "output_type": "stream",
     "text": [
      "|8|7|5|\n",
      "|3|2| |\n",
      "|4|6|1|\n",
      "\n"
     ]
    }
   ],
   "source": [
    "state0 = [8, 7, 5, 3, 2, 0, 4, 6, 1]\n",
    "display(state0)"
   ]
  },
  {
   "cell_type": "markdown",
   "metadata": {},
   "source": [
    "#### Solve it"
   ]
  },
  {
   "cell_type": "code",
   "execution_count": 5,
   "metadata": {},
   "outputs": [
    {
     "data": {
      "text/plain": [
       "35"
      ]
     },
     "execution_count": 5,
     "metadata": {},
     "output_type": "execute_result"
    }
   ],
   "source": [
    "solution = algo.solve(state0, deterministic=False, num_searches=100)\n",
    "len(solution)"
   ]
  },
  {
   "cell_type": "markdown",
   "metadata": {},
   "source": [
    "#### Replay the solution step by step"
   ]
  },
  {
   "cell_type": "code",
   "execution_count": 6,
   "metadata": {},
   "outputs": [
    {
     "name": "stdout",
     "output_type": "stream",
     "text": [
      "start:\n",
      "|8|7|5|\n",
      "|3|2| |\n",
      "|4|6|1|\n",
      "\n",
      "left:\n",
      "|8|7|5|\n",
      "|3| |2|\n",
      "|4|6|1|\n",
      "\n",
      "up:\n",
      "|8| |5|\n",
      "|3|7|2|\n",
      "|4|6|1|\n",
      "\n",
      "left:\n",
      "| |8|5|\n",
      "|3|7|2|\n",
      "|4|6|1|\n",
      "\n",
      "down:\n",
      "|3|8|5|\n",
      "| |7|2|\n",
      "|4|6|1|\n",
      "\n",
      "down:\n",
      "|3|8|5|\n",
      "|4|7|2|\n",
      "| |6|1|\n",
      "\n",
      "right:\n",
      "|3|8|5|\n",
      "|4|7|2|\n",
      "|6| |1|\n",
      "\n",
      "up:\n",
      "|3|8|5|\n",
      "|4| |2|\n",
      "|6|7|1|\n",
      "\n",
      "up:\n",
      "|3| |5|\n",
      "|4|8|2|\n",
      "|6|7|1|\n",
      "\n",
      "right:\n",
      "|3|5| |\n",
      "|4|8|2|\n",
      "|6|7|1|\n",
      "\n",
      "down:\n",
      "|3|5|2|\n",
      "|4|8| |\n",
      "|6|7|1|\n",
      "\n",
      "left:\n",
      "|3|5|2|\n",
      "|4| |8|\n",
      "|6|7|1|\n",
      "\n",
      "left:\n",
      "|3|5|2|\n",
      "| |4|8|\n",
      "|6|7|1|\n",
      "\n",
      "down:\n",
      "|3|5|2|\n",
      "|6|4|8|\n",
      "| |7|1|\n",
      "\n",
      "right:\n",
      "|3|5|2|\n",
      "|6|4|8|\n",
      "|7| |1|\n",
      "\n",
      "right:\n",
      "|3|5|2|\n",
      "|6|4|8|\n",
      "|7|1| |\n",
      "\n",
      "up:\n",
      "|3|5|2|\n",
      "|6|4| |\n",
      "|7|1|8|\n",
      "\n",
      "left:\n",
      "|3|5|2|\n",
      "|6| |4|\n",
      "|7|1|8|\n",
      "\n",
      "down:\n",
      "|3|5|2|\n",
      "|6|1|4|\n",
      "|7| |8|\n",
      "\n",
      "left:\n",
      "|3|5|2|\n",
      "|6|1|4|\n",
      "| |7|8|\n",
      "\n",
      "up:\n",
      "|3|5|2|\n",
      "| |1|4|\n",
      "|6|7|8|\n",
      "\n",
      "up:\n",
      "| |5|2|\n",
      "|3|1|4|\n",
      "|6|7|8|\n",
      "\n",
      "right:\n",
      "|5| |2|\n",
      "|3|1|4|\n",
      "|6|7|8|\n",
      "\n",
      "down:\n",
      "|5|1|2|\n",
      "|3| |4|\n",
      "|6|7|8|\n",
      "\n",
      "right:\n",
      "|5|1|2|\n",
      "|3|4| |\n",
      "|6|7|8|\n",
      "\n",
      "up:\n",
      "|5|1| |\n",
      "|3|4|2|\n",
      "|6|7|8|\n",
      "\n",
      "left:\n",
      "|5| |1|\n",
      "|3|4|2|\n",
      "|6|7|8|\n",
      "\n",
      "left:\n",
      "| |5|1|\n",
      "|3|4|2|\n",
      "|6|7|8|\n",
      "\n",
      "down:\n",
      "|3|5|1|\n",
      "| |4|2|\n",
      "|6|7|8|\n",
      "\n",
      "right:\n",
      "|3|5|1|\n",
      "|4| |2|\n",
      "|6|7|8|\n",
      "\n",
      "up:\n",
      "|3| |1|\n",
      "|4|5|2|\n",
      "|6|7|8|\n",
      "\n",
      "right:\n",
      "|3|1| |\n",
      "|4|5|2|\n",
      "|6|7|8|\n",
      "\n",
      "down:\n",
      "|3|1|2|\n",
      "|4|5| |\n",
      "|6|7|8|\n",
      "\n",
      "left:\n",
      "|3|1|2|\n",
      "|4| |5|\n",
      "|6|7|8|\n",
      "\n",
      "left:\n",
      "|3|1|2|\n",
      "| |4|5|\n",
      "|6|7|8|\n",
      "\n",
      "up:\n",
      "| |1|2|\n",
      "|3|4|5|\n",
      "|6|7|8|\n",
      "\n"
     ]
    }
   ],
   "source": [
    "algo.env.set_state(state0)\n",
    "\n",
    "print(\"start:\")\n",
    "display(algo.env.get_state())\n",
    "for a in solution:\n",
    "    print([\"left\", \"up\", \"right\", \"down\"][a]+\":\")\n",
    "    algo.env.step(a)\n",
    "    display(algo.env.get_state())"
   ]
  },
  {
   "cell_type": "code",
   "execution_count": null,
   "metadata": {},
   "outputs": [],
   "source": []
  }
 ],
 "metadata": {
  "kernelspec": {
   "display_name": "env",
   "language": "python",
   "name": "python3"
  },
  "language_info": {
   "codemirror_mode": {
    "name": "ipython",
    "version": 3
   },
   "file_extension": ".py",
   "mimetype": "text/x-python",
   "name": "python",
   "nbconvert_exporter": "python",
   "pygments_lexer": "ipython3",
   "version": "3.11.11"
  }
 },
 "nbformat": 4,
 "nbformat_minor": 2
}
